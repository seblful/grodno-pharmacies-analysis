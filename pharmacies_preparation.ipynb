{
 "cells": [
  {
   "cell_type": "markdown",
   "id": "02e02f4b",
   "metadata": {},
   "source": [
    "### В данном ноутбуке выполнялась очистка, подготовка данных полученных с сайта tabletka.by для дальнейшего анализа."
   ]
  },
  {
   "cell_type": "code",
   "execution_count": 1,
   "id": "9bb1cf32",
   "metadata": {},
   "outputs": [],
   "source": [
    "import pandas as pd\n",
    "import numpy as np\n",
    "import matplotlib.pyplot as plt\n",
    "import seaborn as sns\n",
    "from matplotlib.pyplot import figure\n",
    "import sys\n",
    "from tqdm.notebook import tqdm"
   ]
  },
  {
   "cell_type": "markdown",
   "id": "78e25f55",
   "metadata": {},
   "source": [
    "#### Чтение, обзор данных "
   ]
  },
  {
   "cell_type": "code",
   "execution_count": 2,
   "id": "cdab3f24",
   "metadata": {},
   "outputs": [],
   "source": [
    "df = pd.read_csv('apt2.csv')"
   ]
  },
  {
   "cell_type": "code",
   "execution_count": 3,
   "id": "ad35ec0a",
   "metadata": {},
   "outputs": [
    {
     "data": {
      "text/plain": [
       "(524160, 11)"
      ]
     },
     "execution_count": 3,
     "metadata": {},
     "output_type": "execute_result"
    }
   ],
   "source": [
    "df.shape"
   ]
  },
  {
   "cell_type": "code",
   "execution_count": 4,
   "id": "6c147971",
   "metadata": {},
   "outputs": [
    {
     "data": {
      "text/html": [
       "<div>\n",
       "<style scoped>\n",
       "    .dataframe tbody tr th:only-of-type {\n",
       "        vertical-align: middle;\n",
       "    }\n",
       "\n",
       "    .dataframe tbody tr th {\n",
       "        vertical-align: top;\n",
       "    }\n",
       "\n",
       "    .dataframe thead th {\n",
       "        text-align: right;\n",
       "    }\n",
       "</style>\n",
       "<table border=\"1\" class=\"dataframe\">\n",
       "  <thead>\n",
       "    <tr style=\"text-align: right;\">\n",
       "      <th></th>\n",
       "      <th>active_ingredient_or_type</th>\n",
       "      <th>country_of_manufaturer</th>\n",
       "      <th>dosage_form</th>\n",
       "      <th>location_of_pharmacy</th>\n",
       "      <th>name_of_manufacturer</th>\n",
       "      <th>name_of_medicine</th>\n",
       "      <th>name_of_pharmacy</th>\n",
       "      <th>number_of_pharmacy</th>\n",
       "      <th>page</th>\n",
       "      <th>prescribed</th>\n",
       "      <th>price_of_medicine</th>\n",
       "    </tr>\n",
       "  </thead>\n",
       "  <tbody>\n",
       "    <tr>\n",
       "      <th>0</th>\n",
       "      <td>Прочее</td>\n",
       "      <td>Швейцария</td>\n",
       "      <td>глюкометр  N1</td>\n",
       "      <td>Гродно, ул. Кабяка, 13, пом. 6, маг. Алми</td>\n",
       "      <td>Бионайм ГмбХ</td>\n",
       "      <td>Bionime Rightest GM 550</td>\n",
       "      <td>InLek Аптека N25 ОДО ДКМ-ФАРМ</td>\n",
       "      <td>(0152) 688654</td>\n",
       "      <td>1</td>\n",
       "      <td>Без рецепта</td>\n",
       "      <td>19.43 р.</td>\n",
       "    </tr>\n",
       "    <tr>\n",
       "      <th>1</th>\n",
       "      <td>Прочее</td>\n",
       "      <td>Швейцария</td>\n",
       "      <td>глюкометр  N1</td>\n",
       "      <td>Гродно, ул. Кабяка, 13, пом. 6, маг. Алми</td>\n",
       "      <td>Бионайм ГмбХ</td>\n",
       "      <td>Bionime Rightest GM 550 + 50 тест-полосок</td>\n",
       "      <td>InLek Аптека N25 ОДО ДКМ-ФАРМ</td>\n",
       "      <td>(0152) 688654</td>\n",
       "      <td>1</td>\n",
       "      <td>Без рецепта</td>\n",
       "      <td>42.38 р.</td>\n",
       "    </tr>\n",
       "    <tr>\n",
       "      <th>2</th>\n",
       "      <td>Прочее</td>\n",
       "      <td>Германия</td>\n",
       "      <td>термометр электронный  N1</td>\n",
       "      <td>Гродно, ул. Кабяка, 13, пом. 6, маг. Алми</td>\n",
       "      <td>Бойрер Гмбх</td>\n",
       "      <td>Beurer FT 09/1</td>\n",
       "      <td>InLek Аптека N25 ОДО ДКМ-ФАРМ</td>\n",
       "      <td>(0152) 688654</td>\n",
       "      <td>1</td>\n",
       "      <td>Без рецепта</td>\n",
       "      <td>16.49 р.</td>\n",
       "    </tr>\n",
       "    <tr>\n",
       "      <th>3</th>\n",
       "      <td>Прочее</td>\n",
       "      <td>Германия</td>\n",
       "      <td>термометр электронный ик  N1</td>\n",
       "      <td>Гродно, ул. Кабяка, 13, пом. 6, маг. Алми</td>\n",
       "      <td>Бойрер Гмбх</td>\n",
       "      <td>Beurer FT 90</td>\n",
       "      <td>InLek Аптека N25 ОДО ДКМ-ФАРМ</td>\n",
       "      <td>(0152) 688654</td>\n",
       "      <td>1</td>\n",
       "      <td>Без рецепта</td>\n",
       "      <td>305.69 р.</td>\n",
       "    </tr>\n",
       "    <tr>\n",
       "      <th>4</th>\n",
       "      <td>Прочее</td>\n",
       "      <td>Германия</td>\n",
       "      <td>пульсоксиметр  N1</td>\n",
       "      <td>Гродно, ул. Кабяка, 13, пом. 6, маг. Алми</td>\n",
       "      <td>Бойрер Гмбх</td>\n",
       "      <td>Beurer PO 30</td>\n",
       "      <td>InLek Аптека N25 ОДО ДКМ-ФАРМ</td>\n",
       "      <td>(0152) 688654</td>\n",
       "      <td>1</td>\n",
       "      <td>Без рецепта</td>\n",
       "      <td>151.30 р.</td>\n",
       "    </tr>\n",
       "  </tbody>\n",
       "</table>\n",
       "</div>"
      ],
      "text/plain": [
       "  active_ingredient_or_type country_of_manufaturer  \\\n",
       "0                    Прочее              Швейцария   \n",
       "1                    Прочее              Швейцария   \n",
       "2                    Прочее               Германия   \n",
       "3                    Прочее               Германия   \n",
       "4                    Прочее               Германия   \n",
       "\n",
       "                    dosage_form                       location_of_pharmacy  \\\n",
       "0                 глюкометр  N1  Гродно, ул. Кабяка, 13, пом. 6, маг. Алми   \n",
       "1                 глюкометр  N1  Гродно, ул. Кабяка, 13, пом. 6, маг. Алми   \n",
       "2     термометр электронный  N1  Гродно, ул. Кабяка, 13, пом. 6, маг. Алми   \n",
       "3  термометр электронный ик  N1  Гродно, ул. Кабяка, 13, пом. 6, маг. Алми   \n",
       "4             пульсоксиметр  N1  Гродно, ул. Кабяка, 13, пом. 6, маг. Алми   \n",
       "\n",
       "  name_of_manufacturer                           name_of_medicine  \\\n",
       "0         Бионайм ГмбХ                    Bionime Rightest GM 550   \n",
       "1         Бионайм ГмбХ  Bionime Rightest GM 550 + 50 тест-полосок   \n",
       "2          Бойрер Гмбх                             Beurer FT 09/1   \n",
       "3          Бойрер Гмбх                               Beurer FT 90   \n",
       "4          Бойрер Гмбх                               Beurer PO 30   \n",
       "\n",
       "                name_of_pharmacy number_of_pharmacy  page   prescribed  \\\n",
       "0  InLek Аптека N25 ОДО ДКМ-ФАРМ      (0152) 688654     1  Без рецепта   \n",
       "1  InLek Аптека N25 ОДО ДКМ-ФАРМ      (0152) 688654     1  Без рецепта   \n",
       "2  InLek Аптека N25 ОДО ДКМ-ФАРМ      (0152) 688654     1  Без рецепта   \n",
       "3  InLek Аптека N25 ОДО ДКМ-ФАРМ      (0152) 688654     1  Без рецепта   \n",
       "4  InLek Аптека N25 ОДО ДКМ-ФАРМ      (0152) 688654     1  Без рецепта   \n",
       "\n",
       "  price_of_medicine  \n",
       "0          19.43 р.  \n",
       "1          42.38 р.  \n",
       "2          16.49 р.  \n",
       "3         305.69 р.  \n",
       "4         151.30 р.  "
      ]
     },
     "execution_count": 4,
     "metadata": {},
     "output_type": "execute_result"
    }
   ],
   "source": [
    "df.head()"
   ]
  },
  {
   "cell_type": "code",
   "execution_count": 5,
   "id": "28efe028",
   "metadata": {},
   "outputs": [],
   "source": [
    "df = df[['name_of_medicine', 'active_ingredient_or_type', 'dosage_form', 'prescribed', 'name_of_manufacturer', 'country_of_manufaturer', 'price_of_medicine', 'name_of_pharmacy', 'location_of_pharmacy']]"
   ]
  },
  {
   "cell_type": "code",
   "execution_count": 6,
   "id": "b532fe37",
   "metadata": {},
   "outputs": [
    {
     "data": {
      "text/html": [
       "<div>\n",
       "<style scoped>\n",
       "    .dataframe tbody tr th:only-of-type {\n",
       "        vertical-align: middle;\n",
       "    }\n",
       "\n",
       "    .dataframe tbody tr th {\n",
       "        vertical-align: top;\n",
       "    }\n",
       "\n",
       "    .dataframe thead th {\n",
       "        text-align: right;\n",
       "    }\n",
       "</style>\n",
       "<table border=\"1\" class=\"dataframe\">\n",
       "  <thead>\n",
       "    <tr style=\"text-align: right;\">\n",
       "      <th></th>\n",
       "      <th>name_of_medicine</th>\n",
       "      <th>active_ingredient_or_type</th>\n",
       "      <th>dosage_form</th>\n",
       "      <th>prescribed</th>\n",
       "      <th>name_of_manufacturer</th>\n",
       "      <th>country_of_manufaturer</th>\n",
       "      <th>price_of_medicine</th>\n",
       "      <th>name_of_pharmacy</th>\n",
       "      <th>location_of_pharmacy</th>\n",
       "    </tr>\n",
       "  </thead>\n",
       "  <tbody>\n",
       "    <tr>\n",
       "      <th>0</th>\n",
       "      <td>Bionime Rightest GM 550</td>\n",
       "      <td>Прочее</td>\n",
       "      <td>глюкометр  N1</td>\n",
       "      <td>Без рецепта</td>\n",
       "      <td>Бионайм ГмбХ</td>\n",
       "      <td>Швейцария</td>\n",
       "      <td>19.43 р.</td>\n",
       "      <td>InLek Аптека N25 ОДО ДКМ-ФАРМ</td>\n",
       "      <td>Гродно, ул. Кабяка, 13, пом. 6, маг. Алми</td>\n",
       "    </tr>\n",
       "    <tr>\n",
       "      <th>1</th>\n",
       "      <td>Bionime Rightest GM 550 + 50 тест-полосок</td>\n",
       "      <td>Прочее</td>\n",
       "      <td>глюкометр  N1</td>\n",
       "      <td>Без рецепта</td>\n",
       "      <td>Бионайм ГмбХ</td>\n",
       "      <td>Швейцария</td>\n",
       "      <td>42.38 р.</td>\n",
       "      <td>InLek Аптека N25 ОДО ДКМ-ФАРМ</td>\n",
       "      <td>Гродно, ул. Кабяка, 13, пом. 6, маг. Алми</td>\n",
       "    </tr>\n",
       "    <tr>\n",
       "      <th>2</th>\n",
       "      <td>Beurer FT 09/1</td>\n",
       "      <td>Прочее</td>\n",
       "      <td>термометр электронный  N1</td>\n",
       "      <td>Без рецепта</td>\n",
       "      <td>Бойрер Гмбх</td>\n",
       "      <td>Германия</td>\n",
       "      <td>16.49 р.</td>\n",
       "      <td>InLek Аптека N25 ОДО ДКМ-ФАРМ</td>\n",
       "      <td>Гродно, ул. Кабяка, 13, пом. 6, маг. Алми</td>\n",
       "    </tr>\n",
       "    <tr>\n",
       "      <th>3</th>\n",
       "      <td>Beurer FT 90</td>\n",
       "      <td>Прочее</td>\n",
       "      <td>термометр электронный ик  N1</td>\n",
       "      <td>Без рецепта</td>\n",
       "      <td>Бойрер Гмбх</td>\n",
       "      <td>Германия</td>\n",
       "      <td>305.69 р.</td>\n",
       "      <td>InLek Аптека N25 ОДО ДКМ-ФАРМ</td>\n",
       "      <td>Гродно, ул. Кабяка, 13, пом. 6, маг. Алми</td>\n",
       "    </tr>\n",
       "    <tr>\n",
       "      <th>4</th>\n",
       "      <td>Beurer PO 30</td>\n",
       "      <td>Прочее</td>\n",
       "      <td>пульсоксиметр  N1</td>\n",
       "      <td>Без рецепта</td>\n",
       "      <td>Бойрер Гмбх</td>\n",
       "      <td>Германия</td>\n",
       "      <td>151.30 р.</td>\n",
       "      <td>InLek Аптека N25 ОДО ДКМ-ФАРМ</td>\n",
       "      <td>Гродно, ул. Кабяка, 13, пом. 6, маг. Алми</td>\n",
       "    </tr>\n",
       "  </tbody>\n",
       "</table>\n",
       "</div>"
      ],
      "text/plain": [
       "                            name_of_medicine active_ingredient_or_type  \\\n",
       "0                    Bionime Rightest GM 550                    Прочее   \n",
       "1  Bionime Rightest GM 550 + 50 тест-полосок                    Прочее   \n",
       "2                             Beurer FT 09/1                    Прочее   \n",
       "3                               Beurer FT 90                    Прочее   \n",
       "4                               Beurer PO 30                    Прочее   \n",
       "\n",
       "                    dosage_form   prescribed name_of_manufacturer  \\\n",
       "0                 глюкометр  N1  Без рецепта         Бионайм ГмбХ   \n",
       "1                 глюкометр  N1  Без рецепта         Бионайм ГмбХ   \n",
       "2     термометр электронный  N1  Без рецепта          Бойрер Гмбх   \n",
       "3  термометр электронный ик  N1  Без рецепта          Бойрер Гмбх   \n",
       "4             пульсоксиметр  N1  Без рецепта          Бойрер Гмбх   \n",
       "\n",
       "  country_of_manufaturer price_of_medicine               name_of_pharmacy  \\\n",
       "0              Швейцария          19.43 р.  InLek Аптека N25 ОДО ДКМ-ФАРМ   \n",
       "1              Швейцария          42.38 р.  InLek Аптека N25 ОДО ДКМ-ФАРМ   \n",
       "2               Германия          16.49 р.  InLek Аптека N25 ОДО ДКМ-ФАРМ   \n",
       "3               Германия         305.69 р.  InLek Аптека N25 ОДО ДКМ-ФАРМ   \n",
       "4               Германия         151.30 р.  InLek Аптека N25 ОДО ДКМ-ФАРМ   \n",
       "\n",
       "                        location_of_pharmacy  \n",
       "0  Гродно, ул. Кабяка, 13, пом. 6, маг. Алми  \n",
       "1  Гродно, ул. Кабяка, 13, пом. 6, маг. Алми  \n",
       "2  Гродно, ул. Кабяка, 13, пом. 6, маг. Алми  \n",
       "3  Гродно, ул. Кабяка, 13, пом. 6, маг. Алми  \n",
       "4  Гродно, ул. Кабяка, 13, пом. 6, маг. Алми  "
      ]
     },
     "execution_count": 6,
     "metadata": {},
     "output_type": "execute_result"
    }
   ],
   "source": [
    "df.head()"
   ]
  },
  {
   "cell_type": "code",
   "execution_count": 7,
   "id": "cdb551de",
   "metadata": {},
   "outputs": [
    {
     "data": {
      "text/html": [
       "<div>\n",
       "<style scoped>\n",
       "    .dataframe tbody tr th:only-of-type {\n",
       "        vertical-align: middle;\n",
       "    }\n",
       "\n",
       "    .dataframe tbody tr th {\n",
       "        vertical-align: top;\n",
       "    }\n",
       "\n",
       "    .dataframe thead th {\n",
       "        text-align: right;\n",
       "    }\n",
       "</style>\n",
       "<table border=\"1\" class=\"dataframe\">\n",
       "  <thead>\n",
       "    <tr style=\"text-align: right;\">\n",
       "      <th></th>\n",
       "      <th>name_of_medicine</th>\n",
       "      <th>active_ingredient_or_type</th>\n",
       "      <th>dosage_form</th>\n",
       "      <th>prescribed</th>\n",
       "      <th>name_of_manufacturer</th>\n",
       "      <th>country_of_manufaturer</th>\n",
       "      <th>price_of_medicine</th>\n",
       "      <th>name_of_pharmacy</th>\n",
       "      <th>location_of_pharmacy</th>\n",
       "    </tr>\n",
       "  </thead>\n",
       "  <tbody>\n",
       "    <tr>\n",
       "      <th>count</th>\n",
       "      <td>524160</td>\n",
       "      <td>524160</td>\n",
       "      <td>524160</td>\n",
       "      <td>524160</td>\n",
       "      <td>522630</td>\n",
       "      <td>513990</td>\n",
       "      <td>524160</td>\n",
       "      <td>524160</td>\n",
       "      <td>524160</td>\n",
       "    </tr>\n",
       "    <tr>\n",
       "      <th>unique</th>\n",
       "      <td>23934</td>\n",
       "      <td>891</td>\n",
       "      <td>3572</td>\n",
       "      <td>3</td>\n",
       "      <td>2308</td>\n",
       "      <td>130</td>\n",
       "      <td>15337</td>\n",
       "      <td>188</td>\n",
       "      <td>183</td>\n",
       "    </tr>\n",
       "    <tr>\n",
       "      <th>top</th>\n",
       "      <td>Амлодипин</td>\n",
       "      <td>БАД</td>\n",
       "      <td>~</td>\n",
       "      <td>Без рецепта</td>\n",
       "      <td>Борисовский ЗМП</td>\n",
       "      <td>Беларусь</td>\n",
       "      <td>5.44 р.</td>\n",
       "      <td>Гродненское РУП Фармация Аптека N147</td>\n",
       "      <td>Гродно, ул. Дубко, 17, ТЦ Old City</td>\n",
       "    </tr>\n",
       "    <tr>\n",
       "      <th>freq</th>\n",
       "      <td>1493</td>\n",
       "      <td>58890</td>\n",
       "      <td>43256</td>\n",
       "      <td>476862</td>\n",
       "      <td>29981</td>\n",
       "      <td>198968</td>\n",
       "      <td>996</td>\n",
       "      <td>4780</td>\n",
       "      <td>8663</td>\n",
       "    </tr>\n",
       "  </tbody>\n",
       "</table>\n",
       "</div>"
      ],
      "text/plain": [
       "       name_of_medicine active_ingredient_or_type dosage_form   prescribed  \\\n",
       "count            524160                    524160      524160       524160   \n",
       "unique            23934                       891        3572            3   \n",
       "top           Амлодипин                       БАД           ~  Без рецепта   \n",
       "freq               1493                     58890       43256       476862   \n",
       "\n",
       "       name_of_manufacturer country_of_manufaturer price_of_medicine  \\\n",
       "count                522630                 513990            524160   \n",
       "unique                 2308                    130             15337   \n",
       "top         Борисовский ЗМП               Беларусь           5.44 р.   \n",
       "freq                  29981                 198968               996   \n",
       "\n",
       "                            name_of_pharmacy  \\\n",
       "count                                 524160   \n",
       "unique                                   188   \n",
       "top     Гродненское РУП Фармация Аптека N147   \n",
       "freq                                    4780   \n",
       "\n",
       "                      location_of_pharmacy  \n",
       "count                               524160  \n",
       "unique                                 183  \n",
       "top     Гродно, ул. Дубко, 17, ТЦ Old City  \n",
       "freq                                  8663  "
      ]
     },
     "execution_count": 7,
     "metadata": {},
     "output_type": "execute_result"
    }
   ],
   "source": [
    "df.describe()"
   ]
  },
  {
   "cell_type": "code",
   "execution_count": 8,
   "id": "62ccc5e9",
   "metadata": {
    "scrolled": false
   },
   "outputs": [
    {
     "data": {
      "text/plain": [
       "name_of_medicine             object\n",
       "active_ingredient_or_type    object\n",
       "dosage_form                  object\n",
       "prescribed                   object\n",
       "name_of_manufacturer         object\n",
       "country_of_manufaturer       object\n",
       "price_of_medicine            object\n",
       "name_of_pharmacy             object\n",
       "location_of_pharmacy         object\n",
       "dtype: object"
      ]
     },
     "execution_count": 8,
     "metadata": {},
     "output_type": "execute_result"
    }
   ],
   "source": [
    "df.dtypes"
   ]
  },
  {
   "cell_type": "markdown",
   "id": "fe36a8d8",
   "metadata": {},
   "source": [
    "#### Просмотр уникальных значений в столбце 'active_ingredient_or_type' и предварительная обработка, далее данная колонка будет разделена на колонку с МНН и колонку с типом товараа"
   ]
  },
  {
   "cell_type": "code",
   "execution_count": 9,
   "id": "3e7b3914",
   "metadata": {},
   "outputs": [
    {
     "data": {
      "text/plain": [
       "array(['Прочее', 'зубные пасты и проч.', 'Косметика',\n",
       "       'Левотироксин натрия', 'Разное',\n",
       "       'Бензокаин+Висмута субгаллат+Цинка оксид+Ментол', 'Амоксициллин',\n",
       "       'Ацетилсалициловая кислота', 'Аммиак', 'Холекальциферол'],\n",
       "      dtype=object)"
      ]
     },
     "execution_count": 9,
     "metadata": {},
     "output_type": "execute_result"
    }
   ],
   "source": [
    "df.active_ingredient_or_type.unique()[0:10]"
   ]
  },
  {
   "cell_type": "code",
   "execution_count": 10,
   "id": "4a67450f",
   "metadata": {},
   "outputs": [],
   "source": [
    "df.active_ingredient_or_type = df.active_ingredient_or_type.replace('зубные пасты и проч.', 'Средства для полости рта')"
   ]
  },
  {
   "cell_type": "markdown",
   "id": "facc4c13",
   "metadata": {},
   "source": [
    "#### Изменение типа данных в колонке 'price_of_medicine' и исправление первой буквы страны производства на заглавную"
   ]
  },
  {
   "cell_type": "code",
   "execution_count": 11,
   "id": "379cb506",
   "metadata": {},
   "outputs": [],
   "source": [
    "df.loc[:,'price_of_medicine'] = df.price_of_medicine.str.replace(' р.', '', regex=False).str.replace('от ', '', regex=False)\n",
    "df = df.astype({'price_of_medicine' : 'float64'})\n",
    "df.country_of_manufaturer = df.country_of_manufaturer.str.capitalize()"
   ]
  },
  {
   "cell_type": "markdown",
   "id": "8bc89b74",
   "metadata": {},
   "source": [
    "Экстракция из адреса аптек только название населенного пункта (кроме Гродно присутствуют также приближенные к нему населенные пункты) и последующее удаление колонки с адресов аптеки так как эта информация не понадобится при анализе"
   ]
  },
  {
   "cell_type": "code",
   "execution_count": 12,
   "id": "8aa2bb5a",
   "metadata": {},
   "outputs": [
    {
     "data": {
      "text/plain": [
       "array(['Гродно'], dtype=object)"
      ]
     },
     "execution_count": 12,
     "metadata": {},
     "output_type": "execute_result"
    }
   ],
   "source": [
    "df['city_of_pharmacy'] = df.location_of_pharmacy.str.extract(r'^(.+?)(?=,)')\n",
    "df.city_of_pharmacy.unique()"
   ]
  },
  {
   "cell_type": "code",
   "execution_count": 13,
   "id": "1058ab93",
   "metadata": {},
   "outputs": [],
   "source": [
    "df.drop(columns='location_of_pharmacy', inplace=True)"
   ]
  },
  {
   "cell_type": "markdown",
   "id": "cfc19c25",
   "metadata": {},
   "source": [
    "#### Экстракция из названий аптек названий аптечной сети"
   ]
  },
  {
   "cell_type": "code",
   "execution_count": 14,
   "id": "db185169",
   "metadata": {},
   "outputs": [],
   "source": [
    "df.name_of_pharmacy = df.name_of_pharmacy.str.replace('Добрыя леки Аптека N3 Либерти-фарм ООО', 'Добрыя леки Аптека N3 Либерти-фарм ООО', regex=False)\n",
    "df.name_of_pharmacy = df.name_of_pharmacy.str.replace('Остров здоровья', 'Остров Здоровья', regex=False) "
   ]
  },
  {
   "cell_type": "code",
   "execution_count": 15,
   "id": "3bf4930d",
   "metadata": {},
   "outputs": [],
   "source": [
    "df['retail_chain'] = df.name_of_pharmacy.str.split().apply(lambda x: x[0] + ' ' + x[1])"
   ]
  },
  {
   "cell_type": "code",
   "execution_count": 16,
   "id": "049ad202",
   "metadata": {},
   "outputs": [
    {
     "data": {
      "text/plain": [
       "array(['InLek Аптека', 'Альфа-аптека Аптека', 'Аптека ADEL',\n",
       "       'Аптека ADEL-Эканом', 'Аптека АстраФарма', 'Аптечное Дело',\n",
       "       'БелЛекоЦентр РУП', 'Биотест ООО', 'Гродненское РУП',\n",
       "       'ДабрадзеяФарм ООО', 'Добрыя Леки', 'Добрыя Леки-Эканом',\n",
       "       'Доминантафарм ОДО', 'Зеленый лист', 'Зялёная крама',\n",
       "       'Искамед ООО', 'Лигматон ООО', 'Мелисса Аптека', 'Моя Аптека',\n",
       "       'Остров Здоровья', 'Планета Здоровья', 'Ремедика ЛКЛ',\n",
       "       'Салюслайн ОДО', 'ФармОстров ООО', 'Ледафарммед ООО',\n",
       "       'Инвитро медицинский', 'Ивафарм ЧТУП', 'Белмедпоставка ЗАО',\n",
       "       'Арника-Люкс ООО'], dtype=object)"
      ]
     },
     "execution_count": 16,
     "metadata": {},
     "output_type": "execute_result"
    }
   ],
   "source": [
    "df.retail_chain.unique()"
   ]
  },
  {
   "cell_type": "code",
   "execution_count": 17,
   "id": "e0fb26e8",
   "metadata": {},
   "outputs": [],
   "source": [
    "df.retail_chain = df.retail_chain.map({\n",
    "    'InLek Аптека' : 'Inlek',\n",
    "    'Альфа-аптека Аптека' : 'Альфа-аптека',\n",
    "    'Аптека ADEL' : 'ADEL',\n",
    "    'Аптека ADEL-Эканом' : 'ADEL-Эканом',\n",
    "    'Аптека АстраФарма' : 'АстраФарма',\n",
    "    'Аптечное Дело' : 'Аптечное Дело',\n",
    "    'Арника-Люкс ООО': 'Арника-Люкс',\n",
    "    'БелЛекоЦентр РУП' : 'БелЛекоЦентр',\n",
    "    'Белмедпоставка ЗАО' : 'Белмедпоставка',\n",
    "    'Биотест ООО': 'Биотест',\n",
    "    'Гродненское РУП' : 'Гродненское РУП Фармация',\n",
    "    'ДабрадзеяФарм ООО' : 'ДабрадзеяФарм',\n",
    "    'Белана ООО' : 'Белана',\n",
    "    'Добрыя Леки' : 'Добрыя Леки', \n",
    "    'Добрыя Леки-Эканом' : 'Добрыя Леки-Эканом',\n",
    "    'Доминантафарм ОДО' : 'Доминантафарм',\n",
    "    'Зеленый лист' : 'Зеленый лист',\n",
    "    'Зялёная крама' : 'Зялёная крама',\n",
    "    'Искамед ООО' : 'Искамед', \n",
    "    'Лигматон ООО' : 'Лигматон',\n",
    "    'Мелисса Аптека' : 'Мелисса',\n",
    "    'Моя Аптека' : 'Моя Аптека',\n",
    "    'Остров Здоровья' : 'Остров здоровья',\n",
    "    'Планета Здоровья' : 'Планета Здоровья',\n",
    "    'Ремедика ЛКЛ' : 'Ремедика',\n",
    "    'Салюслайн ОДО' : 'Салюслайн',\n",
    "    'ФармОстров ООО' : 'ФармОстров',\n",
    "    'Медицинский магазин' : 'Польза',\n",
    "    'Ледафарммед ООО' : 'Ледафарммед',\n",
    "    'Инвитро медицинский' : 'Инвитро',\n",
    "    'Ивафарм ЧТУП' : 'Ивафарм'\n",
    "})"
   ]
  },
  {
   "cell_type": "code",
   "execution_count": 18,
   "id": "e92e6cd5",
   "metadata": {},
   "outputs": [
    {
     "data": {
      "text/plain": [
       "array(['Inlek', 'Альфа-аптека', 'ADEL', 'ADEL-Эканом', 'АстраФарма',\n",
       "       'Аптечное Дело', 'БелЛекоЦентр', 'Биотест',\n",
       "       'Гродненское РУП Фармация', 'ДабрадзеяФарм', 'Добрыя Леки',\n",
       "       'Добрыя Леки-Эканом', 'Доминантафарм', 'Зеленый лист',\n",
       "       'Зялёная крама', 'Искамед', 'Лигматон', 'Мелисса', 'Моя Аптека',\n",
       "       'Остров здоровья', 'Планета Здоровья', 'Ремедика', 'Салюслайн',\n",
       "       'ФармОстров', 'Ледафарммед', 'Инвитро', 'Ивафарм',\n",
       "       'Белмедпоставка', 'Арника-Люкс'], dtype=object)"
      ]
     },
     "execution_count": 18,
     "metadata": {},
     "output_type": "execute_result"
    }
   ],
   "source": [
    "df.retail_chain.unique()"
   ]
  },
  {
   "cell_type": "markdown",
   "id": "4573efb7",
   "metadata": {},
   "source": [
    "#### Добавление новых колонок, которые понадобятся для последующего анализа и визуализации"
   ]
  },
  {
   "cell_type": "code",
   "execution_count": 19,
   "id": "b99fff0c",
   "metadata": {},
   "outputs": [],
   "source": [
    "is_not_medicines = ['Прочее', 'БАД', 'Средства для полости рта', 'Косметика',\n",
    "                   'Не классифицировано', 'Разное', 'Изделия медназначения', 'Продукты питания',\n",
    "                   'Морская вода', 'Морская вода+Эктоин', 'Морская вода+Декспантенол',\n",
    "                    'Дезсредство', 'Лечебное питание']"
   ]
  },
  {
   "cell_type": "code",
   "execution_count": 20,
   "id": "ec7a04ee",
   "metadata": {},
   "outputs": [],
   "source": [
    "def is_medicine(value):\n",
    "    if value in is_not_medicines:\n",
    "        return 0\n",
    "    else:\n",
    "        return 1"
   ]
  },
  {
   "cell_type": "code",
   "execution_count": 21,
   "id": "5e2cc5ad",
   "metadata": {},
   "outputs": [],
   "source": [
    "def predict_type(value):\n",
    "    if value in is_not_medicines:\n",
    "        return value\n",
    "    else:\n",
    "        return 'ЛП'"
   ]
  },
  {
   "cell_type": "code",
   "execution_count": 22,
   "id": "cbbc96ea",
   "metadata": {},
   "outputs": [],
   "source": [
    "def is_import(value):\n",
    "    if value != 'Беларусь':\n",
    "        return 1\n",
    "    else:\n",
    "        return 0"
   ]
  },
  {
   "cell_type": "code",
   "execution_count": 23,
   "id": "c9a447ee",
   "metadata": {},
   "outputs": [],
   "source": [
    "df['is_medicine'] = df.active_ingredient_or_type.apply(is_medicine)\n",
    "df['type_of_good'] = df.active_ingredient_or_type.apply(predict_type)\n",
    "df['is_import'] = df.country_of_manufaturer.apply(is_import)"
   ]
  },
  {
   "cell_type": "markdown",
   "id": "5e433dde",
   "metadata": {},
   "source": [
    "### Классификация некласифицированных групп по ключевым словам"
   ]
  },
  {
   "cell_type": "code",
   "execution_count": 24,
   "id": "3515ccb2",
   "metadata": {},
   "outputs": [
    {
     "data": {
      "text/plain": [
       "array(['Прочее', 'Средства для полости рта', 'Косметика', 'ЛП', 'Разное',\n",
       "       'Морская вода', 'Морская вода+Эктоин', 'Изделия медназначения',\n",
       "       'БАД', 'Не классифицировано', 'Продукты питания',\n",
       "       'Морская вода+Декспантенол', 'Дезсредство', 'Лечебное питание'],\n",
       "      dtype=object)"
      ]
     },
     "execution_count": 24,
     "metadata": {},
     "output_type": "execute_result"
    }
   ],
   "source": [
    "df.type_of_good.unique()"
   ]
  },
  {
   "cell_type": "code",
   "execution_count": 25,
   "id": "4ba94d5e",
   "metadata": {},
   "outputs": [],
   "source": [
    "# классификация не на основе нормативного регулирования, а на основе целей маркетинга\n",
    "\n",
    "contain_subst = ['субстанция', 'субст.', 'субстанц.']\n",
    "\n",
    "contain_bad = [' бад', '(бад)', 'шелуха семян под', 'сироп топинамбура', 'послабин клетчатка', 'ромашки цветки']\n",
    "\n",
    "contain_imn = ['бандаж', 'отрез', 'пластырь', 'система', 'насадка', 'фильтр ', 'accu', 'alpe', 'amed', \n",
    "              'antar', 'ортез', 'dr.skipp', 'droplet', 'kawe', 'lifecare', 'luxplast', 'бинт', 'спрей-флюид для очистки',\n",
    "              'matopat', 'medisafe', 'medlance', 'medrull', 'грелка', 'вата', 'спринцовка', 'molicare', 'термоконтейнер',\n",
    "              'molimed', 'molinea', 'molipants', 'omnifilm', 'omniplast', 'omnipor', 'omnistrip', 'omnifix', \n",
    "              'oppo', 'peha-haft', 'pic mister', 'pic miss', 'pregips', 'prolife orto', 'promisemed', 'relaxsan', \n",
    "              'чулки', 'safety-lancet', 'seni', 'silkoplast', 'tena', 'urgo', 'vetti', 'viva для узи',\n",
    "              'aзри для узи', 'бимед', 'галтея', 'депенд', 'диамед для узи', 'динно', 'доктор plast', 'драй дэй',\n",
    "              'индикатор температуры', 'компресс для головы', 'креативмп', 'лино', 'лодочка', 'люксан',\n",
    "              'лягушка тбв', 'молиформ', 'мульти тест', 'омнисилк', 'пакет гипотермический', 'повязка', 'рыбка тбв',\n",
    "              'рыбка с цветовой', 'тереза', 'лейкопластырь', 'термометр ртутный', 'термометр нертутный', 'уротест',\n",
    "              'уточка тбв', 'шприц', 'экспресс-тест', 'бахилы', 'контейнер', 'зажим', 'иглы хирургические', 'шпател', \n",
    "               'тейп ', 'пинцет', 'зеркал', 'скальпель', 'ножниц', 'бурсопротектор', 'моночулок', 'наконечник',\n",
    "               'корректор осанки', 'корсет', 'перчатки',  'массажный набор', 'массажер', 'массажёр', 'накидк', 'тейпы',\n",
    "               'мезороллер', 'мезоштамп', 'палки телескопические', 'подушка дорожная аккупун', 'позвоночника мостик',\n",
    "               'суппорт', 'термопояс', 'тренажер', 'фиксатор', 'шарф массажный', 'шары для ручного массажа', \n",
    "               'щётка д/сух массажа', 'клеенка', 'ht 10', 'ht 15', 'шапочки', 'шапочка', 'берет', 'наколенник',\n",
    "               'костыль', 'стельки', 'колготки компрес', 'гольфы', 'корректор р', 'апл  ', 'алц  ', 'футляр ',\n",
    "               'аппликатор', 'матрас противопролежн', 'аэробол', 'банка ', 'банки ', 'бахила', 'башмаки для тренинг',\n",
    "               'беруши', 'брюки прокто', 'валик ', 'валики ', 'вкладыш', 'выдавливатель ', 'выкладка попер', 'гигрометр ',\n",
    "               'гребень педик', 'губка гемос', 'диск баланс', 'диск вращ', 'емкости-контейнеры', 'жгут', 'звуковод', \n",
    "               'зеркало вагин', 'зеркало гинекол', 'зонд', 'зонды', 'игла гипод', 'игла инъекц', 'каолприемник', \n",
    "               'coloplast', 'колостом', 'очки защитные', 'катетер', 'паста-герметик', 'комбинезон', 'инструменты для сос',\n",
    "               'инструменты и принадлежности медицинские', 'инструменты медицинские', 'зонд юнона', 'фильтр бак-вирус',\n",
    "               'канюля', 'катетер', 'квадрат для сидения', 'кинезио', 'кислородный баллончик', 'клеевая пластина', \n",
    "               'клеёнка', 'клипсы для эл.бинта', 'коврик', 'колпачки для пальцев', 'колпачок защитный', 'кольца для пальцев',\n",
    "               'кольцо защитное', 'кольцо пилатес', 'корректирующего белья', 'комплект хирургич', 'контейнер ', 'контейнеры',\n",
    "               'корр.осанки', 'корректор ', 'костыли', 'круг подкладной', 'круг резиновый', 'эсмарха', 'л/пласт.',\n",
    "               'лента эластичная', 'линза ', 'линзы ', 'магнитные очки', 'манжета-стяжка', 'маска кислород.', 'массажн', \n",
    "               'пакеты бумажные самокл', 'материал шовный', 'материалы стоматол', 'матрац ', 'межпальцев', 'alterna free',\n",
    "               'мешок колос', 'мешок однокомп', 'мешок-резервуар', 'велотренаж', 'министеппер', 'молоток неврологический',\n",
    "               'мочеприемник', 'мяч для фитнеса', 'аккупункт', 'польза ', 'вакуумных банок', 'резинок для фитнеса',\n",
    "               'напальчник', 'напяточник', 'нарукавник', 'насадка противос', 'насос-дозатор', 'шнурок для очков', \n",
    "               'ножницы анат', 'ножницы  арт', 'ножницы к', 'ножницы о', 'ножницы т', 'ножницы2', 'ножницы9', 'ортопед',\n",
    "               'оправа ', 'оправы ', 'трусы стер', 'отвертка с насадками для очков', 'отвертки карманные', 'очки д',\n",
    "               'очки к', 'очки д', 'очки с', 'пакет перев', 'палки д', 'палки т', 'перегородк', 'пипетка', 'пластина клеевая',\n",
    "               'подпяточник', 'подушечк', 'подушка', 'сателлит ', 'полустельки', 'полусфера', 'чулок ', 'приспособление ',\n",
    "               'пояс ', 'простын', 'протектор ', 'протекторы ', 'протектор-', 'разделитель межпальцевый', 'очковыми линз',\n",
    "               'расческа', 'реклинатор', 'рециркулятор воздуха', 'рукав ', 'салфетка ', 'сетки синтетические', 'скальпели ',\n",
    "               'скальпель ', 'скребок+ролик', 'маска мед', 'смесь дыхательная', 'спиртометр', 'компрессионн', 'стул-сиденье',\n",
    "               'стяжка переднего отдела', 'судно ', 'сумка-холодильник', 'супинатор ', 'суппорт ', 'таблетниц', 'тренажёр',\n",
    "               'трость', 'термометр', 'термопакет', 'термопояс', 'тестер-анализатор', 'термосумка', 'турник с регулир', \n",
    "               'уропрезерватив', 'уст-во д/удаления', 'устройство д', 'утки avanti', 'утяжелители', 'фартук ', 'халат ',\n",
    "               'хладоэлемент', 'ходунки', 'цепочка д', 'цитощетка', 'шнурок ', 'шорты ', 'шпатель ', 'штативы ',\n",
    "               'щетка для сухого', 'щетка массаж', 'щиток ', 'экран д', 'экран з','экран п', 'элемент фильтрующий',\n",
    "               'эспандер', 'маска сан', 'аптечка', 'горчичник', 'ffp2', 'респиратор аэроз', 'кольцо мат', 'комплект белья',\n",
    "               'маска лицевая защитная', 'маска-повязка', 'набор вагинальн', 'пессарий силик', 'респиратор акула', \n",
    "               'набор гинекол', 'юнона ', 'bd micro-fine', 'cosmos ', 'microlet', 'senso med stand', 'азри для узи',\n",
    "               'амелия', 'софтекс', 'bradex спина', 'алп  ', 'ватные шарики', 'башмаки для трек', 'гребень', 'держатель д/',\n",
    "               'игла иньекц', 'tro-can', 'ладошки массаж', 'мяч массаж', 'супинаторы', 'трубка воздушная', 'трубка асп',\n",
    "               'супинаторы', 'avantii medical', 'халаты защитные', 'щётка для сухого', 'фильтры ', 'пессарий', 'электрод мед',\n",
    "               'калоприемник', 'маски для дыхат', 'мочеприёмник', 'bio-luc', 'air optix', 'biofinity', 'biotrue', 'dailies', \n",
    "               'freshlook', 'optima fw', 'purevision', 'quarterly', 'ultra -', 'релинз', 'реню', 'acrysof', 'канюли внутр',\n",
    "                'интраокулярных линз', 'офтальмологич', 'перчатка ', 'халаты защ', 'магистраль инф'] # ИМН и все что схоже с ним\n",
    "\n",
    "contain_mt = ['beurer', 'манжет', 'адаптер', 'a&d ', 'стетоскоп', 'agu', 'bionime', 'clearrapid', 'elari', 'finetest', \n",
    "              'gluneo', 'helprapid', 'imed', 'термометр', 'innospire', 'insupen', 'little doctor', 'medel', 'microlife', \n",
    "              'нагнетатель', 'nissei', 'omron', 'on call', 'pic solution', 'адаптер', 'prolife', 'rossmax', 'yonker',\n",
    "              'aдъютор', 'аист-', 'алмаг', 'амт-01', 'витафон', 'дарсонваль', 'интеграл', 'ирма', 'мавит улп', 'маг 30',\n",
    "              'мультилор', 'оуфб', 'сателлит', 'депилятор', 'gezatone', 'увлажнитель воздуха', 'аппарат',\n",
    "              'бактерицидная лампа', 'облучател', 'прибор ', 'приборы ', 'рефлектор электр', 'сауна для лица', \n",
    "              'увлажнитель воздуха', 'напольные весы', 'фонарик', 'электрофен', '3a midineb', '3a turboneb', 'biolift m100'\n",
    "               'contour plus', 'тонометр ', 'адъютор', 'гм-2', 'biolift m100(s)', 'contour plus'] # содержит медицинскую технику и расходные материалы к ней\n",
    "\n",
    "contain_mouth = ['aquajet', 'fairywill', 'waterdent', 'филлипс sonicare', 'ополаскиватель', 'паста лакал', 'зубная нить',\n",
    "                'зубная паста', 'зубочистки', 'ирригатор', 'braun oral'] # содержит средства для ухода за полостью рта\n",
    "\n",
    "contain_children = ['baby', 'bebe', 'canpol', 'аспиратор назальный', 'happy care', \"johnson's\", 'kindii', 'прищепка д/пус',\n",
    "                    'lovular', 'nosefrida', 'nuk', 'silktouch', 'sundelight', 'skippy', 'аква марис', 'аквалор',\n",
    "                   'белла беби', 'бусинка', 'солнце и луна', 'хелен харпер', 'соска-пустышка', 'бутылочк', 'happy care',\n",
    "                   'прорезыватель', 'соска', 'поильник', 'ниблер', 'ножницы детские', 'жевалка', 'бутылочек',\n",
    "                   'слюнявчик', 'салфетки детские', 'пустышка', 'молокоотсос', 'avent', 'накладк', 'пакеты для хранения грудного'\n",
    "                   'пуст.сил', 'babyono', 'bella baby', 'bella tampo', 'bella прок', 'bella тамп', 'пустышк', \n",
    "                    'babies', 'детск', 'chicco','dr.brown', 'dr.kind', 'детское', 'подгузник', 'pampers', 'kids',\n",
    "                    'детей', 'погремушка', 'кормящих', 'авент', 'булавка безопасная', 'бутылка антикол', 'ванночк', 'ложечк',\n",
    "                    'губка для купания', 'губка д/куп', 'губки для куп', 'держатель для', 'дракоша', 'пустышек',\n",
    "                    'щетка д/мытья бут', 'ложек', 'канпол', 'клипса-держатель', 'крем дет.', 'мама тама', 'щипчики',\n",
    "                    'кружка тренировочная',  'непроливайка', 'лактатор', 'присыпка', 'ложка ', 'мама тама', 'мамина нежность',\n",
    "                    'маникюрный набор', 'ёжик', 'антистресс', 'набор маникюрный', 'набор обеденный', 'набор посуды', \n",
    "                    'набор щет', 'нагрудник', 'носки д', 'нук ', 'бэби', 'пакеты для стерилизац', 'пластмассовая миска',\n",
    "                    'подгуз.белла', 'пома ', 'радионяня', 'безопасная булавка', 'санделайт', 'полесье мебель для кукол', \n",
    "                    'следки массаж', 'солнце и луна', 'соски ', 'тарелка', 'трубочка', 'чашка', 'щетка с расч', 'promexp',\n",
    "                    'кленка д/', 'ложка.', 'ложка2', 'трубка газоотводная', 'cоска молочная латексная', 'подкладка санитарная',\n",
    "                    'dr tuttelle', 'грудного молока', 'салф.вл.дет', 'lansinoh', 'бебилайн']# содержит товары для детей и связано с детьми\n",
    "\n",
    "contain_women = ['belle epoque', 'bb-test', 'clearblue', 'frautest', 'itest plus', 'mama check', 'mama test', \n",
    "                 'белла мама', 'прокладк', 'тампон', 'tampon', 'колготки', 'always', 'bella flora', 'bella for teens', \n",
    "                 'bella ideale', 'bella mamma', 'bella medica', 'bella panty', 'bella perfecta', 'carefree', 'интимной',\n",
    "                 'discreet', 'прокл.', 'o.b.', 'slimme', 'tampax', 'tampo', 'пояс-трусы', 'белла ', 'бюстгалтер',\n",
    "                 'бюстгальтер', 'naturel',  'колготки', 'колготы', 'леггинсы', 'трусы для рожениц', 'многоразовые трусики',\n",
    "                 'мэгги', 'менструальн', 'натурелла', 'носки ж', 'пакет д/г', 'пакеты для сбора и хранения грудного',\n",
    "                 'подследники ', 'трубка аспирац', 'трусики', 'трусы ', 'ежедневки', 'дикси', 'мэгги', 'тампакс']  # содержит товары для женщин и похожее\n",
    "\n",
    "contain_sex = ['contex', 'durex', 'masculan', 'sico', 'eska', 'erox', 'ganzo', 'hasico', 'in time', 'indigo', \n",
    "               'maxus', 'one_touch', 'viva c', 'vizit', 'малавит', 'ты и я', 'one touch', 'reflex clas', \n",
    "              'reflex dot', 'troge bamper', 'viva d','viva l', 'viva r'] # содержит презервативы, смазки\n",
    "\n",
    "contain_lp = ['ларивикс экстра', 'левипил', 'тиоцетам ', 'фитолэнд ', 'ларимикс '] # новые некласифицированные лс\n",
    "\n",
    "contain_food = ['corny', 'батончик', 'musler', 'мюсли', 'verbena', 'вода пит', 'беллакт', 'вода мин', 'боржоми',\n",
    "                'мин.вода', 'минеральная вода', 'боровая', 'вода прир', 'вода свят', 'десерт фрукт', 'имбирный сироп',\n",
    "                'каша', 'печенье', 'комбуча', 'консервы ', 'конфета', 'конфеты', 'десерт ', 'нектар ', 'пюре ',\n",
    "                'сок ', 'морс ', 'чайных', 'напиток ', 'нектар ', 'подсластитель', 'питьевая вода', 'святой источник',\n",
    "                'nestogen', 'смузи фиксики', 'стевия', 'столовый подсластитель', 'nestle', 'сусли', 'фиточай', \n",
    "                'батон льняной', 'фрутоняня', 'хлорофилл', 'чай зеленый', 'чай черный', 'цикорий', 'чай ', 'borjomi',\n",
    "                'вода пит', 'лечебно-столовая', 'нечипсы ', 'маша и медведь', 'мука амарантовая', 'китайского чая', \n",
    "                'овощи сушеные'] #еда, напитки\n",
    "\n",
    "\n",
    "contain_cosmetic = ['мама комфорт', 'массажная маска', 'для умывания', 'для лица', 'для всех типов волос', 'для тела',\n",
    "                    'пилинг', 'шампунь', 'маска д/', 'крем для рук', 'маркел', 'энзимная вода', 'омолаживающая вода',\n",
    "                    'мыло', 'acne control', 'acne stop', 'active formula', 'active hair', 'adel',  'agrado', 'aloe', \n",
    "                    'гель', 'концентрат', 'сыворотка', 'маска', 'тоник', 'крем', 'патчи', 'бальзам', 'ароматич',\n",
    "                    'флюид', 'гель', 'масло', 'лак ', 'belle jardin', 'миц.вода', 'макияж', 'эмульсия', 'мицеллярная вода',\n",
    "                    'акне', 'bielenda', 'масло', 'маска', 'масла', 'лосьон', 'глина', 'гидролат', 'мист для лица', 'мусс',\n",
    "                    'пенка', 'скраб', 'соль ', 'кондиционер', 'антиперспирант', 'мицеллярн', 'космети', 'лака ',\n",
    "                    'комплекс', 'дезодорант', 'молочко', 'ванн', 'пена', 'термальная вода', 'вода парфюмерная', 'целитель',\n",
    "                    'парфюмерная вода', 'l erbolario', 'мицелляр. вода', 'бишофит', 'соль для ванн', 'соль морская', \n",
    "                    'спрей', 'патчи', 'спот-корректор', 'тонер', 'ополаскиватель для волос', 'эксфолиант', 'фармафортицеа',\n",
    "                    'эссенция', 'розовая вода', ' шамп ', 'чистотел', 'parasoftin', 'карандаш', 'rexona', 'полоски',\n",
    "                    'загар', ' spf', 'волос', 'салфетки для лица', 'мирролла', 'вазелин', 'антимозолин', 'филлер',\n",
    "                    'антисильверин', 'масел', 'аромакомпозиция', 'ароматизатор', 'бабуш рецепт', 'басма ', 'белита',\n",
    "                    'детокс', 'баттер', 'белкосмекс', 'белорэк', 'деготь', 'бленд ', 'прыщей', 'боро кейр', 'боро плюс',\n",
    "                    'боро фреш', 'бустер-минимайзер', 'витэкс', 'морщин', 'гиалурон', 'помада', 'гидролат', 'глицерин',\n",
    "                    'горячее обертывание', 'губка-спонж', 'косметич', 'дёготь', 'деготь', 'дабур ','концентрат',\n",
    "                    'щетка д/волос', 'маникюрный набор', 'квасцы жженые', 'масле', 'коллаген', 'мист', 'н.к.', 'naomi',\n",
    "                    'набор маникюрный', 'насадки сменные', 'настой', 'носочки', 'обертывание ', 'ободок защитный',\n",
    "                    'оксидат торфа', 'очиститель пор', 'парафин', 'пленка-сауна', 'пудра', 'салфеткм', 'селфилаб',\n",
    "                    'сливки густые после', 'сменные ролик', 'соль  морская', 'сорбет', 'спонж-пилинг', 'спот-корректор',\n",
    "                    'против запара и пота', 'spf20', 'spf30', 'spf50', 'spf 20', 'spf 30', 'spf 50', 'спрей против ломкости',\n",
    "                    'спрей салицил', 'спрей солнцез', 'спрей-кондиционер', 'басма натуральная', 'step up', 'стик для ног',\n",
    "                    'косметик', 'сульсена', 'ядом кобры', 'ядом скорпиона', 'д/волос', 'умная эмаль', 'кератин', 'фп лепестки', \n",
    "                    'паста-тальк', 'экстракт хвойный', 'хвойный экс', 'хна ', 'чистая линия',  'гоммаж', 'набор д/саун',\n",
    "                    'дегтярный', 'щетка для волос', 'щетка для лица', 'щетка для распутывания', 'щетка для тела', 'экстракт ',\n",
    "                    'краска для волос', 'эссенция',  'эфирин', 'янтарная кислота', 'дезодорант', 'axe ', 'гель', 'apotek-s',\n",
    "                    'антиперсперант', 'жидкое мило', 'mаска', 'cыворотка', 'плёнка-сауна', 'multi-collagen', 'дезодарант', \n",
    "                    'озокерит', 'зародышей пшеницы'] # косметика и все что связано с уходом\n",
    "\n",
    "contain_dez = ['эктосепт', 'дезинфекц', 'дезинфицирующ', 'антибактер','дезинфиц.', 'квинтасепт','средство моющее', \n",
    "              'дезинф.','коронастоп', 'маносептол', 'крыштал','санит ','септима эвкалипт',  'антисептик', 'tris sept',\n",
    "              'антибакт', 'деодез.', 'моющее для санитарной''трибэль', 'цитоклин', 'айсидез', 'антимикробн', 'дермаклин'] \n",
    "                # дез. средства и антисептики\n",
    "\n",
    "\n",
    "\n",
    "contain_other = ['пакет с защелкой', 'бритва', 'диски ', 'палочки', 'платочки', 'салфетки', 'бумага', 'покрытия ', \n",
    "                 'пакет с защелкой', 'bella cotton', 'бритвы', 'бутылка', 'ultra compact', 'аквабриз', 'шунгит', \n",
    "                 'коврик', 'костюм', 'шейкер', 'станок для бритья', 'платки ', 'покрытие ', 'туалетная бумага', \n",
    "                  'губка', 'мочалка', 'салфетки влажные', 'салфетки бумажные', 'зубочистки', 'туал.бум', 'шнур usb', \n",
    "                  'книпсер', 'кусачки', 'маникюрные ножницы', 'пилка ', 'пинцет для бровей', 'кусачки',  'влажные салфетки', \n",
    "                  'батарейка', 'брелок', 'станок', 'бумага туал', 'элемент питания', 'эл. питания', 'свеча ', 'свечи ',\n",
    "                  'вторая молодость', 'гантель', 'унитаз', 'диск dvd', 'дисконт', 'часы песочные', 'часы-будильник', \n",
    "                  'дозатор ', 'дорожный набор', 'жевательная резинка', 'закладка-линейка', 'технопластик', 'влаж салфетки',\n",
    "                  'карточка пластиковая',   'конверт бум', 'сумка пвх', 'сумка-мешок', 'сумка-шоппер', 'салф.влаж.',  \n",
    "                  'кремень реликтовый',  'лампа накаливания', 'мешки пэ', 'полотенца бум', 'пластиковая карта', 'пакет ', \n",
    "                  'подсвечник ', 'мешок полиэт', 'мешок-вкладыш',  'набор дорожный', 'носки ', 'обувь ', 'освежитель ',\n",
    "                  'сорбент углеродный', 'мешки пол. д', ' лагуна ', 'пакет-майка', 'пакеты п', 'пакеты  ', 'ручка 38',\n",
    "                 'сабо ', 'салф. вл.', 'свеча-столбик', 'установка для обез', 'cтанок для бритья', 'aura ватные диски',\n",
    "                 'джилет кассеты', 'нож 1.2', 'нож 2.2', 'mosquitall','клещ', 'комар', 'ozz ',  'рэпеллент', 'насеком', \n",
    "                 'комарофф','москилл', 'москитол', 'репелент', 'репеллент', 'озз.', 'антикомариные','дихлофос', 'инсектицид', \n",
    "                 'акарицид', 'дэта аква', 'softex'] # не классифицировано"
   ]
  },
  {
   "cell_type": "code",
   "execution_count": 26,
   "id": "3e38e86e",
   "metadata": {},
   "outputs": [],
   "source": [
    "# субстанции\n",
    "for i in contain_subst:\n",
    "    df.loc[(df.active_ingredient_or_type.isin(['Не классифицировано', 'Прочее', 'Разное'])) & (df.is_medicine == 0) & (df.name_of_medicine.str.lower().str.contains(i, regex=False)), ['type_of_good']] = 'Субстанция'\n",
    "\n",
    "# ИМН\n",
    "for i in contain_imn:\n",
    "    df.loc[(df.type_of_good.isin(['Не классифицировано', 'Прочее', 'Разное'])) & (df.is_medicine == 0) & (df.name_of_medicine.str.lower().str.contains(i, regex=False)), ['type_of_good']] = 'Изделия медназначения'\n",
    "\n",
    "# МТ\n",
    "for i in contain_mt:\n",
    "    df.loc[(df.type_of_good.isin(['Не классифицировано', 'Прочее', 'Разное'])) & (df.is_medicine == 0) & (df.name_of_medicine.str.lower().str.contains(i, regex=False)), ['type_of_good']] = 'МТ'\n",
    "\n",
    "# Средства для ротовой полости\n",
    "for i in contain_mouth:\n",
    "    df.loc[(df.type_of_good.isin(['Не классифицировано', 'Прочее', 'Разное'])) & (df.is_medicine == 0) & (df.name_of_medicine.str.lower().str.contains(i, regex=False)), ['type_of_good']] = 'Средства для полости рта'\n",
    "\n",
    "# Товары для детей\n",
    "for i in contain_children:\n",
    "    df.loc[(df.type_of_good.isin(['Не классифицировано', 'Прочее', 'Разное'])) & (df.is_medicine == 0) & (df.name_of_medicine.str.lower().str.contains(i, regex=False)), ['type_of_good']] = 'Товары для детей'\n",
    "\n",
    "# Товары для женщин\n",
    "for i in contain_women:\n",
    "    df.loc[(df.type_of_good.isin(['Не классифицировано', 'Прочее', 'Разное'])) & (df.is_medicine == 0) & (df.name_of_medicine.str.lower().str.contains(i, regex=False)), ['type_of_good']] = 'Товары для женщин'\n",
    "\n",
    "# Товары для секса\n",
    "for i in contain_sex:\n",
    "    df.loc[(df.type_of_good.isin(['Не классифицировано', 'Прочее'])) & (df.is_medicine == 0) & (df.name_of_medicine.str.lower().str.contains(i, regex=False)), ['type_of_good']] = 'Товары для секса'\n",
    "\n",
    "# ЛП\n",
    "for i in contain_lp:\n",
    "    df.loc[(df.type_of_good.isin(['Не классифицировано', 'Прочее', 'Разное'])) & (df.is_medicine == 0) & (df.name_of_medicine.str.lower().str.contains(i, regex=False)), ['type_of_good']] = 'ЛП'\n",
    "    df.loc[(df.type_of_good.isin(['Не классифицировано', 'Прочее', 'Разное'])) & (df.is_medicine == 0) & (df.name_of_medicine.str.lower().str.contains(i, regex=False)), ['is_medicine']] = 1\n",
    "\n",
    "# БАД\n",
    "for i in contain_bad:\n",
    "    df.loc[(df.type_of_good.isin(['Не классифицировано', 'Прочее', 'Разное'])) & (df.is_medicine == 0) & (df.name_of_medicine.str.lower().str.contains(i, regex=False)), ['type_of_good']] = 'БАД'\n",
    "\n",
    "# Косметика\n",
    "for i in contain_cosmetic:\n",
    "    df.loc[(df.type_of_good.isin(['Не классифицировано', 'Прочее', 'Разное'])) & (df.is_medicine == 0) & (df.name_of_medicine.str.lower().str.contains(i, regex=False)), ['type_of_good']] = 'Косметика'    \n",
    "\n",
    "# Еда\n",
    "for i in contain_food:\n",
    "    df.loc[(df.type_of_good.isin(['Не классифицировано', 'Прочее', 'Разное'])) & (df.is_medicine == 0) & (df.name_of_medicine.str.lower().str.contains(i, regex=False)), ['type_of_good']] = 'Продукты питания'\n",
    "    \n",
    "# Дез\n",
    "for i in contain_dez:\n",
    "    df.loc[(df.type_of_good.isin(['Не классифицировано', 'Прочее', 'Разное'])) & (df.is_medicine == 0) & (df.name_of_medicine.str.lower().str.contains(i, regex=False)), ['type_of_good']] = 'Дезсредство'\n",
    "\n",
    "# Другое\n",
    "for i in contain_other:\n",
    "    df.loc[(df.type_of_good.isin(['Не классифицировано', 'Прочее', 'Разное'])) & (df.is_medicine == 0) & (df.name_of_medicine.str.lower().str.contains(i, regex=False)), ['type_of_good']] = 'Другое'"
   ]
  },
  {
   "cell_type": "code",
   "execution_count": 27,
   "id": "d7c39ae8",
   "metadata": {},
   "outputs": [],
   "source": [
    "#df.loc[(df.type_of_good.isin(['Не классифицировано', 'Прочее', 'Разное'])) & (df.is_medicine == 0) & (df.name_of_medicine.str.lower().str.contains('а', regex=False)), ['type_of_good']]"
   ]
  },
  {
   "cell_type": "markdown",
   "id": "8f4d44d3",
   "metadata": {},
   "source": [
    "###### Проверка на полноту классификации и дополнительная обработка"
   ]
  },
  {
   "cell_type": "code",
   "execution_count": 28,
   "id": "640e64cf",
   "metadata": {},
   "outputs": [
    {
     "data": {
      "text/plain": [
       "[]"
      ]
     },
     "execution_count": 28,
     "metadata": {},
     "output_type": "execute_result"
    }
   ],
   "source": [
    "sorted(df[df.type_of_good == 'Не классифицировано'].name_of_medicine.unique())[0:]"
   ]
  },
  {
   "cell_type": "code",
   "execution_count": 29,
   "id": "7ca44b2e",
   "metadata": {},
   "outputs": [
    {
     "data": {
      "text/plain": [
       "array(['МТ', 'Средства для полости рта', 'Изделия медназначения',\n",
       "       'Косметика', 'Товары для секса', 'ЛП', 'Товары для женщин',\n",
       "       'Морская вода', 'Морская вода+Эктоин', 'БАД', 'Товары для детей',\n",
       "       'Другое', 'Продукты питания', 'Дезсредство',\n",
       "       'Морская вода+Декспантенол', 'Субстанция', 'Лечебное питание',\n",
       "       'Прочее'], dtype=object)"
      ]
     },
     "execution_count": 29,
     "metadata": {},
     "output_type": "execute_result"
    }
   ],
   "source": [
    "df.type_of_good.unique()"
   ]
  },
  {
   "cell_type": "code",
   "execution_count": 30,
   "id": "925eda67",
   "metadata": {},
   "outputs": [],
   "source": [
    "# дополнительная обработка\n",
    "df.loc[(df.type_of_good.isin(['Изделия медназначения'])) & (df.name_of_medicine.str.lower().str.contains('детск', regex=False)), ['type_of_good']] = 'Товары для детей' \n",
    "df.loc[(df.type_of_good.isin(['Средства для полости рта'])) & (df.name_of_medicine.str.lower().str.contains('волос', regex=False)), ['type_of_good']] = 'Косметика'\n",
    "df.loc[(df.type_of_good.isin(['Средства для полости рта'])) & (df.name_of_medicine.str.lower().str.contains('хербал эсенсес', regex=False)), ['type_of_good']] = 'Косметика' \n",
    "df.loc[(df.type_of_good.isin(['Средства для полости рта'])) & (df.name_of_medicine.str.lower().str.contains('бальзам-ополаскиватель', regex=False)), ['type_of_good']] = 'Косметика' \n",
    "df.loc[(df.type_of_good.isin(['Изделия медназначения'])) & (df.name_of_medicine.str.lower().str.contains('ватные', regex=False)), ['type_of_good']] = 'Другое' \n",
    "df.loc[(df.type_of_good.isin(['Товары для женщин'])) & (df.name_of_medicine.str.lower().str.contains('спирт', regex=False)), ['type_of_good']] = 'Изделия медназначения' \n",
    "df.loc[(df.type_of_good.isin(['Изделия медназначения'])) & (df.name_of_medicine.str.lower().str.contains('космет', regex=False)), ['type_of_good']] = 'Косметика' \n",
    "\n",
    "df.loc[(df.active_ingredient_or_type.isin(['Морская вода', 'Морская вода+Эктоин', 'Морская вода+Декспантенол'])), ['type_of_good']] = 'Изделия медназначения' \n",
    "df.loc[(df.active_ingredient_or_type == 'Лечебное питание'), ['type_of_good']] = 'Продукты питания'\n",
    "df.loc[(df.active_ingredient_or_type == 'Дезсредство'), ['type_of_good']] = 'Дезсредство'\n"
   ]
  },
  {
   "cell_type": "markdown",
   "id": "4711d4de",
   "metadata": {},
   "source": [
    "###### Получившиеся товарные группы"
   ]
  },
  {
   "cell_type": "code",
   "execution_count": 31,
   "id": "a157c271",
   "metadata": {},
   "outputs": [
    {
     "data": {
      "text/plain": [
       "array(['МТ', 'Средства для полости рта', 'Изделия медназначения',\n",
       "       'Косметика', 'Товары для секса', 'ЛП', 'Товары для женщин', 'БАД',\n",
       "       'Товары для детей', 'Другое', 'Продукты питания', 'Дезсредство',\n",
       "       'Субстанция', 'Прочее'], dtype=object)"
      ]
     },
     "execution_count": 31,
     "metadata": {},
     "output_type": "execute_result"
    }
   ],
   "source": [
    "df.type_of_good.unique()"
   ]
  },
  {
   "cell_type": "markdown",
   "id": "68f03b2b",
   "metadata": {},
   "source": [
    "#### Добавление новых колонок, которые понадобятся для последующего анализа и визуализации"
   ]
  },
  {
   "cell_type": "code",
   "execution_count": 32,
   "id": "9917c1d8",
   "metadata": {},
   "outputs": [],
   "source": [
    "pharmacies = ['Inlek', 'Альфа-аптека', 'ADEL', 'ADEL-Эканом', 'АстраФарма',\n",
    "       'Аптечное Дело', 'Арника-Люкс', 'БелЛекоЦентр',\n",
    "       'Биотест', 'Гродненское РУП Фармация', 'ДабрадзеяФарм',\n",
    "       'Добрыя Леки', 'Добрыя Леки-Эканом', 'Доминантафарм',\n",
    "       'Зеленый лист', 'Искамед', 'Лигматон', 'Мелисса',\n",
    "       'Моя Аптека', 'Остров здоровья', 'Планета Здоровья', 'Ремедика',\n",
    "       'Салюслайн', 'ФармОстров', 'Ледафарммед','Ивафарм']\n",
    "\n",
    "categories = ['МТ', 'Средства для полости рта', 'Изделия медназначения',\n",
    "       'Косметика', 'ЛП', 'БАД', 'Товары для секса', 'Товары для детей',\n",
    "       'Товары для женщин', 'Другое', 'Продукты питания', 'Дезсредство']\n",
    "\n",
    "categories_without_medicines = ['МТ', 'Прочее', 'Средства для полости рта', 'Косметика', 'Товары для секса',\n",
    "                                'Изделия медназначения', 'БАД', 'Разное', 'Не классифицировано', 'Товары для детей'\n",
    "                                'Продукты питания', 'Морская вода', 'Морская вода+Эктоин', 'Товары для женщин'\n",
    "                                'Морская вода+Декспантенол', 'Дезсредство', 'Лечебное питание', 'Другое']"
   ]
  },
  {
   "cell_type": "code",
   "execution_count": 33,
   "id": "c7c17c04",
   "metadata": {},
   "outputs": [],
   "source": [
    "def active_ingredient(value):\n",
    "    if value in categories_without_medicines:\n",
    "        return np.nan\n",
    "    else:\n",
    "        return value\n",
    "    \n",
    "def is_prescribed(value):\n",
    "    if value in ['По рецепту', 'Для стационаров']:\n",
    "        return 1\n",
    "    else:\n",
    "        return 0\n",
    "    \n"
   ]
  },
  {
   "cell_type": "code",
   "execution_count": 34,
   "id": "41f1cf95",
   "metadata": {},
   "outputs": [],
   "source": [
    "df.active_ingredient_or_type = df.active_ingredient_or_type.apply(active_ingredient)"
   ]
  },
  {
   "cell_type": "code",
   "execution_count": 35,
   "id": "18fd78ff",
   "metadata": {},
   "outputs": [
    {
     "data": {
      "text/plain": [
       "array([nan, 'Левотироксин натрия',\n",
       "       'Бензокаин+Висмута субгаллат+Цинка оксид+Ментол', 'Амоксициллин',\n",
       "       'Ацетилсалициловая кислота', 'Аммиак', 'Холекальциферол',\n",
       "       'Амброксол', 'Парацетамол+Хлорфенамин+Аскорбиновая кислота',\n",
       "       'Парацетамол+Фенилэфрин+Хлорфенамин'], dtype=object)"
      ]
     },
     "execution_count": 35,
     "metadata": {},
     "output_type": "execute_result"
    }
   ],
   "source": [
    "df.active_ingredient_or_type.unique()[0:10]"
   ]
  },
  {
   "cell_type": "code",
   "execution_count": 36,
   "id": "9ec251d2",
   "metadata": {},
   "outputs": [],
   "source": [
    "df.prescribed = df.prescribed.apply(is_prescribed)"
   ]
  },
  {
   "cell_type": "code",
   "execution_count": 37,
   "id": "4535707c",
   "metadata": {},
   "outputs": [],
   "source": [
    "df.rename(columns={'active_ingredient_or_type': 'active_ingredient', 'prescribed':'is_prescribed'}, inplace=True)"
   ]
  },
  {
   "cell_type": "markdown",
   "id": "a73f9216",
   "metadata": {},
   "source": [
    "### Создание нового датафрейма, который содержит только аптеки, и последующее сохранение его в .csv"
   ]
  },
  {
   "cell_type": "code",
   "execution_count": 38,
   "id": "6298dbde",
   "metadata": {},
   "outputs": [],
   "source": [
    "df_ph = df[(df.retail_chain.isin(pharmacies)) & (df.type_of_good.isin(categories))]"
   ]
  },
  {
   "cell_type": "code",
   "execution_count": 39,
   "id": "be4c3ee7",
   "metadata": {},
   "outputs": [],
   "source": [
    "df_ph = df_ph[['name_of_medicine', 'dosage_form', 'type_of_good','active_ingredient', 'is_medicine', \n",
    "       'is_prescribed', 'name_of_manufacturer', 'country_of_manufaturer', 'is_import', \n",
    "       'retail_chain','name_of_pharmacy', 'city_of_pharmacy', 'price_of_medicine']]"
   ]
  },
  {
   "cell_type": "code",
   "execution_count": 40,
   "id": "31db545e",
   "metadata": {},
   "outputs": [],
   "source": [
    "df_ph.type_of_good = df_ph.type_of_good.replace('Изделия медназначения', 'ИМН')\n",
    "df_ph.type_of_good = df_ph.type_of_good.str.replace('Товары для секса', 'Интимные товары', regex=False)\n",
    "df_ph.type_of_good = df_ph.type_of_good.str.replace('Дезсредство', 'Дезсредства', regex=False)"
   ]
  },
  {
   "cell_type": "code",
   "execution_count": 41,
   "id": "69e1f90e",
   "metadata": {},
   "outputs": [],
   "source": [
    "df_ph.to_csv('df_ph.csv', index=False)"
   ]
  },
  {
   "cell_type": "code",
   "execution_count": 42,
   "id": "44c8c3a0",
   "metadata": {},
   "outputs": [
    {
     "data": {
      "text/html": [
       "<div>\n",
       "<style scoped>\n",
       "    .dataframe tbody tr th:only-of-type {\n",
       "        vertical-align: middle;\n",
       "    }\n",
       "\n",
       "    .dataframe tbody tr th {\n",
       "        vertical-align: top;\n",
       "    }\n",
       "\n",
       "    .dataframe thead th {\n",
       "        text-align: right;\n",
       "    }\n",
       "</style>\n",
       "<table border=\"1\" class=\"dataframe\">\n",
       "  <thead>\n",
       "    <tr style=\"text-align: right;\">\n",
       "      <th></th>\n",
       "      <th>name_of_medicine</th>\n",
       "      <th>dosage_form</th>\n",
       "      <th>type_of_good</th>\n",
       "      <th>active_ingredient</th>\n",
       "      <th>is_medicine</th>\n",
       "      <th>is_prescribed</th>\n",
       "      <th>name_of_manufacturer</th>\n",
       "      <th>country_of_manufaturer</th>\n",
       "      <th>is_import</th>\n",
       "      <th>retail_chain</th>\n",
       "      <th>name_of_pharmacy</th>\n",
       "      <th>city_of_pharmacy</th>\n",
       "      <th>price_of_medicine</th>\n",
       "    </tr>\n",
       "  </thead>\n",
       "  <tbody>\n",
       "    <tr>\n",
       "      <th>0</th>\n",
       "      <td>Bionime Rightest GM 550</td>\n",
       "      <td>глюкометр  N1</td>\n",
       "      <td>МТ</td>\n",
       "      <td>NaN</td>\n",
       "      <td>0</td>\n",
       "      <td>0</td>\n",
       "      <td>Бионайм ГмбХ</td>\n",
       "      <td>Швейцария</td>\n",
       "      <td>1</td>\n",
       "      <td>Inlek</td>\n",
       "      <td>InLek Аптека N25 ОДО ДКМ-ФАРМ</td>\n",
       "      <td>Гродно</td>\n",
       "      <td>19.43</td>\n",
       "    </tr>\n",
       "    <tr>\n",
       "      <th>1</th>\n",
       "      <td>Bionime Rightest GM 550 + 50 тест-полосок</td>\n",
       "      <td>глюкометр  N1</td>\n",
       "      <td>МТ</td>\n",
       "      <td>NaN</td>\n",
       "      <td>0</td>\n",
       "      <td>0</td>\n",
       "      <td>Бионайм ГмбХ</td>\n",
       "      <td>Швейцария</td>\n",
       "      <td>1</td>\n",
       "      <td>Inlek</td>\n",
       "      <td>InLek Аптека N25 ОДО ДКМ-ФАРМ</td>\n",
       "      <td>Гродно</td>\n",
       "      <td>42.38</td>\n",
       "    </tr>\n",
       "    <tr>\n",
       "      <th>2</th>\n",
       "      <td>Beurer FT 09/1</td>\n",
       "      <td>термометр электронный  N1</td>\n",
       "      <td>МТ</td>\n",
       "      <td>NaN</td>\n",
       "      <td>0</td>\n",
       "      <td>0</td>\n",
       "      <td>Бойрер Гмбх</td>\n",
       "      <td>Германия</td>\n",
       "      <td>1</td>\n",
       "      <td>Inlek</td>\n",
       "      <td>InLek Аптека N25 ОДО ДКМ-ФАРМ</td>\n",
       "      <td>Гродно</td>\n",
       "      <td>16.49</td>\n",
       "    </tr>\n",
       "    <tr>\n",
       "      <th>3</th>\n",
       "      <td>Beurer FT 90</td>\n",
       "      <td>термометр электронный ик  N1</td>\n",
       "      <td>МТ</td>\n",
       "      <td>NaN</td>\n",
       "      <td>0</td>\n",
       "      <td>0</td>\n",
       "      <td>Бойрер Гмбх</td>\n",
       "      <td>Германия</td>\n",
       "      <td>1</td>\n",
       "      <td>Inlek</td>\n",
       "      <td>InLek Аптека N25 ОДО ДКМ-ФАРМ</td>\n",
       "      <td>Гродно</td>\n",
       "      <td>305.69</td>\n",
       "    </tr>\n",
       "    <tr>\n",
       "      <th>4</th>\n",
       "      <td>Beurer PO 30</td>\n",
       "      <td>пульсоксиметр  N1</td>\n",
       "      <td>МТ</td>\n",
       "      <td>NaN</td>\n",
       "      <td>0</td>\n",
       "      <td>0</td>\n",
       "      <td>Бойрер Гмбх</td>\n",
       "      <td>Германия</td>\n",
       "      <td>1</td>\n",
       "      <td>Inlek</td>\n",
       "      <td>InLek Аптека N25 ОДО ДКМ-ФАРМ</td>\n",
       "      <td>Гродно</td>\n",
       "      <td>151.30</td>\n",
       "    </tr>\n",
       "  </tbody>\n",
       "</table>\n",
       "</div>"
      ],
      "text/plain": [
       "                            name_of_medicine                   dosage_form  \\\n",
       "0                    Bionime Rightest GM 550                 глюкометр  N1   \n",
       "1  Bionime Rightest GM 550 + 50 тест-полосок                 глюкометр  N1   \n",
       "2                             Beurer FT 09/1     термометр электронный  N1   \n",
       "3                               Beurer FT 90  термометр электронный ик  N1   \n",
       "4                               Beurer PO 30             пульсоксиметр  N1   \n",
       "\n",
       "  type_of_good active_ingredient  is_medicine  is_prescribed  \\\n",
       "0           МТ               NaN            0              0   \n",
       "1           МТ               NaN            0              0   \n",
       "2           МТ               NaN            0              0   \n",
       "3           МТ               NaN            0              0   \n",
       "4           МТ               NaN            0              0   \n",
       "\n",
       "  name_of_manufacturer country_of_manufaturer  is_import retail_chain  \\\n",
       "0         Бионайм ГмбХ              Швейцария          1        Inlek   \n",
       "1         Бионайм ГмбХ              Швейцария          1        Inlek   \n",
       "2          Бойрер Гмбх               Германия          1        Inlek   \n",
       "3          Бойрер Гмбх               Германия          1        Inlek   \n",
       "4          Бойрер Гмбх               Германия          1        Inlek   \n",
       "\n",
       "                name_of_pharmacy city_of_pharmacy  price_of_medicine  \n",
       "0  InLek Аптека N25 ОДО ДКМ-ФАРМ           Гродно              19.43  \n",
       "1  InLek Аптека N25 ОДО ДКМ-ФАРМ           Гродно              42.38  \n",
       "2  InLek Аптека N25 ОДО ДКМ-ФАРМ           Гродно              16.49  \n",
       "3  InLek Аптека N25 ОДО ДКМ-ФАРМ           Гродно             305.69  \n",
       "4  InLek Аптека N25 ОДО ДКМ-ФАРМ           Гродно             151.30  "
      ]
     },
     "execution_count": 42,
     "metadata": {},
     "output_type": "execute_result"
    }
   ],
   "source": [
    "df_ph.head()"
   ]
  }
 ],
 "metadata": {
  "kernelspec": {
   "display_name": "Python 3 (ipykernel)",
   "language": "python",
   "name": "python3"
  },
  "language_info": {
   "codemirror_mode": {
    "name": "ipython",
    "version": 3
   },
   "file_extension": ".py",
   "mimetype": "text/x-python",
   "name": "python",
   "nbconvert_exporter": "python",
   "pygments_lexer": "ipython3",
   "version": "3.9.7"
  }
 },
 "nbformat": 4,
 "nbformat_minor": 5
}
